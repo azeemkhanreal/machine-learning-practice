{
    "cells": [
        {
            "metadata": {},
            "cell_type": "code",
            "source": "import numpy as np\nimport pandas as pd\nimport matplotlib.pyplot as plt\nfrom sklearn.datasets import load_iris\nfrom sklearn.model_selection import train_test_split\nfrom collections import Counter",
            "execution_count": 1,
            "outputs": []
        },
        {
            "metadata": {},
            "cell_type": "code",
            "source": "iris = load_iris()",
            "execution_count": 2,
            "outputs": []
        },
        {
            "metadata": {},
            "cell_type": "code",
            "source": "X,y = iris.data,iris.target",
            "execution_count": 3,
            "outputs": []
        },
        {
            "metadata": {},
            "cell_type": "code",
            "source": "X_train,X_test,y_train,y_test = train_test_split(X,y,test_size=0.2,random_state=1234)",
            "execution_count": 4,
            "outputs": []
        },
        {
            "metadata": {},
            "cell_type": "code",
            "source": "print(f\"Shape of X_train is {X_train.shape}\")\nprint(f\"Shape of X_test is {X_test.shape}\")\nprint(f\"Shape of y_train is {y_train.shape}\")\nprint(f\"Shape of y_test is {y_test.shape}\")",
            "execution_count": 5,
            "outputs": [
                {
                    "output_type": "stream",
                    "text": "Shape of X_train is (120, 4)\nShape of X_test is (30, 4)\nShape of y_train is (120,)\nShape of y_test is (30,)\n",
                    "name": "stdout"
                }
            ]
        },
        {
            "metadata": {},
            "cell_type": "code",
            "source": "def euclidean_distance(x1,x2):\n    return np.sqrt(np.sum((x1-x2)**2))\n",
            "execution_count": 6,
            "outputs": []
        },
        {
            "metadata": {},
            "cell_type": "code",
            "source": "class KNN:\n    def __init__(self,k=3):\n        self.k = k\n    \n    def fit(self,X,y):\n        self.X_train = X\n        self.y_train = y\n    \n    def predict(self,X):\n        predicted_labels = [self._predict(x) for x in X]\n        return np.array(predicted_labels)\n        \n    def _predict(self,x):\n        #compute distances\n        distances = [euclidean_distance(x,x_train) for x_train in self.X_train]\n        #get k nearest samples,labels\n        k_indices = np.argsort(distances)[:self.k]\n        k_nearest_labels = [self.y_train[i] for i in k_indices]\n        #majority vote, most comman class label\n        most_common = Counter(k_nearest_labels).most_common(1)\n        return most_common[0][0]\n        ",
            "execution_count": 7,
            "outputs": []
        },
        {
            "metadata": {},
            "cell_type": "code",
            "source": "clf = KNN(k=3)",
            "execution_count": 8,
            "outputs": []
        },
        {
            "metadata": {},
            "cell_type": "code",
            "source": "clf.fit(X_train,y_train)",
            "execution_count": 9,
            "outputs": []
        },
        {
            "metadata": {},
            "cell_type": "code",
            "source": "predictions = clf.predict(X_test)",
            "execution_count": 10,
            "outputs": []
        },
        {
            "metadata": {},
            "cell_type": "code",
            "source": "accuracy = np.sum(predictions ==y_test)/len(y_test)\nprint(accuracy)",
            "execution_count": 11,
            "outputs": [
                {
                    "output_type": "stream",
                    "text": "1.0\n",
                    "name": "stdout"
                }
            ]
        },
        {
            "metadata": {},
            "cell_type": "code",
            "source": "predictions",
            "execution_count": 12,
            "outputs": [
                {
                    "output_type": "execute_result",
                    "execution_count": 12,
                    "data": {
                        "text/plain": "array([1, 1, 2, 0, 1, 0, 0, 0, 1, 2, 1, 0, 2, 1, 0, 1, 2, 0, 2, 1, 1, 1,\n       1, 1, 2, 0, 2, 1, 2, 0])"
                    },
                    "metadata": {}
                }
            ]
        },
        {
            "metadata": {},
            "cell_type": "markdown",
            "source": "# from sklearn"
        },
        {
            "metadata": {},
            "cell_type": "code",
            "source": "from sklearn.neighbors import KNeighborsClassifier",
            "execution_count": 13,
            "outputs": []
        },
        {
            "metadata": {},
            "cell_type": "code",
            "source": "model = KNeighborsClassifier(n_neighbors=3)",
            "execution_count": 14,
            "outputs": []
        },
        {
            "metadata": {},
            "cell_type": "code",
            "source": "model.fit(X_train,y_train)",
            "execution_count": 15,
            "outputs": [
                {
                    "output_type": "execute_result",
                    "execution_count": 15,
                    "data": {
                        "text/plain": "KNeighborsClassifier(n_neighbors=3)"
                    },
                    "metadata": {}
                }
            ]
        },
        {
            "metadata": {},
            "cell_type": "code",
            "source": "model.score(X_test,y_test)",
            "execution_count": 16,
            "outputs": [
                {
                    "output_type": "execute_result",
                    "execution_count": 16,
                    "data": {
                        "text/plain": "1.0"
                    },
                    "metadata": {}
                }
            ]
        },
        {
            "metadata": {},
            "cell_type": "code",
            "source": "sk_predictions = model.predict(X_test)",
            "execution_count": 17,
            "outputs": []
        },
        {
            "metadata": {},
            "cell_type": "code",
            "source": "sk_predictions",
            "execution_count": 18,
            "outputs": [
                {
                    "output_type": "execute_result",
                    "execution_count": 18,
                    "data": {
                        "text/plain": "array([1, 1, 2, 0, 1, 0, 0, 0, 1, 2, 1, 0, 2, 1, 0, 1, 2, 0, 2, 1, 1, 1,\n       1, 1, 2, 0, 2, 1, 2, 0])"
                    },
                    "metadata": {}
                }
            ]
        },
        {
            "metadata": {},
            "cell_type": "markdown",
            "source": "# Confusion Matrix"
        },
        {
            "metadata": {},
            "cell_type": "code",
            "source": "from sklearn.metrics import confusion_matrix\n",
            "execution_count": 19,
            "outputs": []
        },
        {
            "metadata": {},
            "cell_type": "code",
            "source": "confusion_matrix(y_test,sk_predictions)",
            "execution_count": 20,
            "outputs": [
                {
                    "output_type": "execute_result",
                    "execution_count": 20,
                    "data": {
                        "text/plain": "array([[ 9,  0,  0],\n       [ 0, 13,  0],\n       [ 0,  0,  8]])"
                    },
                    "metadata": {}
                }
            ]
        },
        {
            "metadata": {},
            "cell_type": "code",
            "source": "confusion_matrix(y_test,predictions)",
            "execution_count": 21,
            "outputs": [
                {
                    "output_type": "execute_result",
                    "execution_count": 21,
                    "data": {
                        "text/plain": "array([[ 9,  0,  0],\n       [ 0, 13,  0],\n       [ 0,  0,  8]])"
                    },
                    "metadata": {}
                }
            ]
        },
        {
            "metadata": {},
            "cell_type": "code",
            "source": "",
            "execution_count": null,
            "outputs": []
        },
        {
            "metadata": {},
            "cell_type": "code",
            "source": "",
            "execution_count": null,
            "outputs": []
        }
    ],
    "metadata": {
        "kernelspec": {
            "name": "python3",
            "display_name": "Python 3.7",
            "language": "python"
        },
        "language_info": {
            "name": "python",
            "version": "3.7.9",
            "mimetype": "text/x-python",
            "codemirror_mode": {
                "name": "ipython",
                "version": 3
            },
            "pygments_lexer": "ipython3",
            "nbconvert_exporter": "python",
            "file_extension": ".py"
        }
    },
    "nbformat": 4,
    "nbformat_minor": 4
}