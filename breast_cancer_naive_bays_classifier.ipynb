{
    "cells": [
        {
            "cell_type": "code",
            "execution_count": 1,
            "metadata": {},
            "outputs": [],
            "source": "import numpy as np\nimport pandas as pd\nimport matplotlib.pyplot as plt\nimport seaborn as sns"
        },
        {
            "cell_type": "code",
            "execution_count": 5,
            "metadata": {},
            "outputs": [],
            "source": "from sklearn.datasets import load_breast_cancer\ndata = load_breast_cancer()"
        },
        {
            "cell_type": "code",
            "execution_count": 12,
            "metadata": {},
            "outputs": [
                {
                    "data": {
                        "text/plain": "array(['mean radius', 'mean texture', 'mean perimeter', 'mean area',\n       'mean smoothness', 'mean compactness', 'mean concavity',\n       'mean concave points', 'mean symmetry', 'mean fractal dimension',\n       'radius error', 'texture error', 'perimeter error', 'area error',\n       'smoothness error', 'compactness error', 'concavity error',\n       'concave points error', 'symmetry error',\n       'fractal dimension error', 'worst radius', 'worst texture',\n       'worst perimeter', 'worst area', 'worst smoothness',\n       'worst compactness', 'worst concavity', 'worst concave points',\n       'worst symmetry', 'worst fractal dimension'], dtype='<U23')"
                    },
                    "execution_count": 12,
                    "metadata": {},
                    "output_type": "execute_result"
                }
            ],
            "source": "data.feature_names"
        },
        {
            "cell_type": "code",
            "execution_count": 14,
            "metadata": {},
            "outputs": [
                {
                    "data": {
                        "text/plain": "array(['malignant', 'benign'], dtype='<U9')"
                    },
                    "execution_count": 14,
                    "metadata": {},
                    "output_type": "execute_result"
                }
            ],
            "source": "data.target_names"
        },
        {
            "cell_type": "code",
            "execution_count": 15,
            "metadata": {},
            "outputs": [],
            "source": "df = pd.DataFrame(np.c_[data.data,data.target],columns=[list(data.feature_names)+['target']])"
        },
        {
            "cell_type": "code",
            "execution_count": 16,
            "metadata": {},
            "outputs": [
                {
                    "data": {
                        "text/html": "<div>\n<style scoped>\n    .dataframe tbody tr th:only-of-type {\n        vertical-align: middle;\n    }\n\n    .dataframe tbody tr th {\n        vertical-align: top;\n    }\n\n    .dataframe thead tr th {\n        text-align: left;\n    }\n</style>\n<table border=\"1\" class=\"dataframe\">\n  <thead>\n    <tr>\n      <th></th>\n      <th>mean radius</th>\n      <th>mean texture</th>\n      <th>mean perimeter</th>\n      <th>mean area</th>\n      <th>mean smoothness</th>\n      <th>mean compactness</th>\n      <th>mean concavity</th>\n      <th>mean concave points</th>\n      <th>mean symmetry</th>\n      <th>mean fractal dimension</th>\n      <th>...</th>\n      <th>worst texture</th>\n      <th>worst perimeter</th>\n      <th>worst area</th>\n      <th>worst smoothness</th>\n      <th>worst compactness</th>\n      <th>worst concavity</th>\n      <th>worst concave points</th>\n      <th>worst symmetry</th>\n      <th>worst fractal dimension</th>\n      <th>target</th>\n    </tr>\n  </thead>\n  <tbody>\n    <tr>\n      <th>0</th>\n      <td>17.99</td>\n      <td>10.38</td>\n      <td>122.80</td>\n      <td>1001.0</td>\n      <td>0.11840</td>\n      <td>0.27760</td>\n      <td>0.3001</td>\n      <td>0.14710</td>\n      <td>0.2419</td>\n      <td>0.07871</td>\n      <td>...</td>\n      <td>17.33</td>\n      <td>184.60</td>\n      <td>2019.0</td>\n      <td>0.1622</td>\n      <td>0.6656</td>\n      <td>0.7119</td>\n      <td>0.2654</td>\n      <td>0.4601</td>\n      <td>0.11890</td>\n      <td>0.0</td>\n    </tr>\n    <tr>\n      <th>1</th>\n      <td>20.57</td>\n      <td>17.77</td>\n      <td>132.90</td>\n      <td>1326.0</td>\n      <td>0.08474</td>\n      <td>0.07864</td>\n      <td>0.0869</td>\n      <td>0.07017</td>\n      <td>0.1812</td>\n      <td>0.05667</td>\n      <td>...</td>\n      <td>23.41</td>\n      <td>158.80</td>\n      <td>1956.0</td>\n      <td>0.1238</td>\n      <td>0.1866</td>\n      <td>0.2416</td>\n      <td>0.1860</td>\n      <td>0.2750</td>\n      <td>0.08902</td>\n      <td>0.0</td>\n    </tr>\n    <tr>\n      <th>2</th>\n      <td>19.69</td>\n      <td>21.25</td>\n      <td>130.00</td>\n      <td>1203.0</td>\n      <td>0.10960</td>\n      <td>0.15990</td>\n      <td>0.1974</td>\n      <td>0.12790</td>\n      <td>0.2069</td>\n      <td>0.05999</td>\n      <td>...</td>\n      <td>25.53</td>\n      <td>152.50</td>\n      <td>1709.0</td>\n      <td>0.1444</td>\n      <td>0.4245</td>\n      <td>0.4504</td>\n      <td>0.2430</td>\n      <td>0.3613</td>\n      <td>0.08758</td>\n      <td>0.0</td>\n    </tr>\n    <tr>\n      <th>3</th>\n      <td>11.42</td>\n      <td>20.38</td>\n      <td>77.58</td>\n      <td>386.1</td>\n      <td>0.14250</td>\n      <td>0.28390</td>\n      <td>0.2414</td>\n      <td>0.10520</td>\n      <td>0.2597</td>\n      <td>0.09744</td>\n      <td>...</td>\n      <td>26.50</td>\n      <td>98.87</td>\n      <td>567.7</td>\n      <td>0.2098</td>\n      <td>0.8663</td>\n      <td>0.6869</td>\n      <td>0.2575</td>\n      <td>0.6638</td>\n      <td>0.17300</td>\n      <td>0.0</td>\n    </tr>\n    <tr>\n      <th>4</th>\n      <td>20.29</td>\n      <td>14.34</td>\n      <td>135.10</td>\n      <td>1297.0</td>\n      <td>0.10030</td>\n      <td>0.13280</td>\n      <td>0.1980</td>\n      <td>0.10430</td>\n      <td>0.1809</td>\n      <td>0.05883</td>\n      <td>...</td>\n      <td>16.67</td>\n      <td>152.20</td>\n      <td>1575.0</td>\n      <td>0.1374</td>\n      <td>0.2050</td>\n      <td>0.4000</td>\n      <td>0.1625</td>\n      <td>0.2364</td>\n      <td>0.07678</td>\n      <td>0.0</td>\n    </tr>\n  </tbody>\n</table>\n<p>5 rows \u00d7 31 columns</p>\n</div>",
                        "text/plain": "  mean radius mean texture mean perimeter mean area mean smoothness  \\\n0       17.99        10.38         122.80    1001.0         0.11840   \n1       20.57        17.77         132.90    1326.0         0.08474   \n2       19.69        21.25         130.00    1203.0         0.10960   \n3       11.42        20.38          77.58     386.1         0.14250   \n4       20.29        14.34         135.10    1297.0         0.10030   \n\n  mean compactness mean concavity mean concave points mean symmetry  \\\n0          0.27760         0.3001             0.14710        0.2419   \n1          0.07864         0.0869             0.07017        0.1812   \n2          0.15990         0.1974             0.12790        0.2069   \n3          0.28390         0.2414             0.10520        0.2597   \n4          0.13280         0.1980             0.10430        0.1809   \n\n  mean fractal dimension  ... worst texture worst perimeter worst area  \\\n0                0.07871  ...         17.33          184.60     2019.0   \n1                0.05667  ...         23.41          158.80     1956.0   \n2                0.05999  ...         25.53          152.50     1709.0   \n3                0.09744  ...         26.50           98.87      567.7   \n4                0.05883  ...         16.67          152.20     1575.0   \n\n  worst smoothness worst compactness worst concavity worst concave points  \\\n0           0.1622            0.6656          0.7119               0.2654   \n1           0.1238            0.1866          0.2416               0.1860   \n2           0.1444            0.4245          0.4504               0.2430   \n3           0.2098            0.8663          0.6869               0.2575   \n4           0.1374            0.2050          0.4000               0.1625   \n\n  worst symmetry worst fractal dimension target  \n0         0.4601                 0.11890    0.0  \n1         0.2750                 0.08902    0.0  \n2         0.3613                 0.08758    0.0  \n3         0.6638                 0.17300    0.0  \n4         0.2364                 0.07678    0.0  \n\n[5 rows x 31 columns]"
                    },
                    "execution_count": 16,
                    "metadata": {},
                    "output_type": "execute_result"
                }
            ],
            "source": "df.head()"
        },
        {
            "cell_type": "code",
            "execution_count": 18,
            "metadata": {},
            "outputs": [
                {
                    "data": {
                        "text/plain": "(569, 31)"
                    },
                    "execution_count": 18,
                    "metadata": {},
                    "output_type": "execute_result"
                }
            ],
            "source": "df.shape"
        },
        {
            "cell_type": "code",
            "execution_count": 20,
            "metadata": {},
            "outputs": [
                {
                    "name": "stdout",
                    "output_type": "stream",
                    "text": "<class 'pandas.core.frame.DataFrame'>\nRangeIndex: 569 entries, 0 to 568\nData columns (total 31 columns):\n(mean radius,)                569 non-null float64\n(mean texture,)               569 non-null float64\n(mean perimeter,)             569 non-null float64\n(mean area,)                  569 non-null float64\n(mean smoothness,)            569 non-null float64\n(mean compactness,)           569 non-null float64\n(mean concavity,)             569 non-null float64\n(mean concave points,)        569 non-null float64\n(mean symmetry,)              569 non-null float64\n(mean fractal dimension,)     569 non-null float64\n(radius error,)               569 non-null float64\n(texture error,)              569 non-null float64\n(perimeter error,)            569 non-null float64\n(area error,)                 569 non-null float64\n(smoothness error,)           569 non-null float64\n(compactness error,)          569 non-null float64\n(concavity error,)            569 non-null float64\n(concave points error,)       569 non-null float64\n(symmetry error,)             569 non-null float64\n(fractal dimension error,)    569 non-null float64\n(worst radius,)               569 non-null float64\n(worst texture,)              569 non-null float64\n(worst perimeter,)            569 non-null float64\n(worst area,)                 569 non-null float64\n(worst smoothness,)           569 non-null float64\n(worst compactness,)          569 non-null float64\n(worst concavity,)            569 non-null float64\n(worst concave points,)       569 non-null float64\n(worst symmetry,)             569 non-null float64\n(worst fractal dimension,)    569 non-null float64\n(target,)                     569 non-null float64\ndtypes: float64(31)\nmemory usage: 137.9 KB\n"
                }
            ],
            "source": "df.info()"
        },
        {
            "cell_type": "code",
            "execution_count": 23,
            "metadata": {},
            "outputs": [
                {
                    "data": {
                        "text/plain": "mean radius                False\nmean texture               False\nmean perimeter             False\nmean area                  False\nmean smoothness            False\nmean compactness           False\nmean concavity             False\nmean concave points        False\nmean symmetry              False\nmean fractal dimension     False\nradius error               False\ntexture error              False\nperimeter error            False\narea error                 False\nsmoothness error           False\ncompactness error          False\nconcavity error            False\nconcave points error       False\nsymmetry error             False\nfractal dimension error    False\nworst radius               False\nworst texture              False\nworst perimeter            False\nworst area                 False\nworst smoothness           False\nworst compactness          False\nworst concavity            False\nworst concave points       False\nworst symmetry             False\nworst fractal dimension    False\ntarget                     False\ndtype: bool"
                    },
                    "execution_count": 23,
                    "metadata": {},
                    "output_type": "execute_result"
                }
            ],
            "source": "df.isnull().any()"
        },
        {
            "cell_type": "code",
            "execution_count": 25,
            "metadata": {},
            "outputs": [
                {
                    "data": {
                        "text/html": "<div>\n<style scoped>\n    .dataframe tbody tr th:only-of-type {\n        vertical-align: middle;\n    }\n\n    .dataframe tbody tr th {\n        vertical-align: top;\n    }\n\n    .dataframe thead tr th {\n        text-align: left;\n    }\n</style>\n<table border=\"1\" class=\"dataframe\">\n  <thead>\n    <tr>\n      <th></th>\n      <th>mean radius</th>\n      <th>mean texture</th>\n      <th>mean perimeter</th>\n      <th>mean area</th>\n      <th>mean smoothness</th>\n      <th>mean compactness</th>\n      <th>mean concavity</th>\n      <th>mean concave points</th>\n      <th>mean symmetry</th>\n      <th>mean fractal dimension</th>\n      <th>...</th>\n      <th>worst texture</th>\n      <th>worst perimeter</th>\n      <th>worst area</th>\n      <th>worst smoothness</th>\n      <th>worst compactness</th>\n      <th>worst concavity</th>\n      <th>worst concave points</th>\n      <th>worst symmetry</th>\n      <th>worst fractal dimension</th>\n      <th>target</th>\n    </tr>\n  </thead>\n  <tbody>\n    <tr>\n      <th>count</th>\n      <td>569.000000</td>\n      <td>569.000000</td>\n      <td>569.000000</td>\n      <td>569.000000</td>\n      <td>569.000000</td>\n      <td>569.000000</td>\n      <td>569.000000</td>\n      <td>569.000000</td>\n      <td>569.000000</td>\n      <td>569.000000</td>\n      <td>...</td>\n      <td>569.000000</td>\n      <td>569.000000</td>\n      <td>569.000000</td>\n      <td>569.000000</td>\n      <td>569.000000</td>\n      <td>569.000000</td>\n      <td>569.000000</td>\n      <td>569.000000</td>\n      <td>569.000000</td>\n      <td>569.000000</td>\n    </tr>\n    <tr>\n      <th>mean</th>\n      <td>14.127292</td>\n      <td>19.289649</td>\n      <td>91.969033</td>\n      <td>654.889104</td>\n      <td>0.096360</td>\n      <td>0.104341</td>\n      <td>0.088799</td>\n      <td>0.048919</td>\n      <td>0.181162</td>\n      <td>0.062798</td>\n      <td>...</td>\n      <td>25.677223</td>\n      <td>107.261213</td>\n      <td>880.583128</td>\n      <td>0.132369</td>\n      <td>0.254265</td>\n      <td>0.272188</td>\n      <td>0.114606</td>\n      <td>0.290076</td>\n      <td>0.083946</td>\n      <td>0.627417</td>\n    </tr>\n    <tr>\n      <th>std</th>\n      <td>3.524049</td>\n      <td>4.301036</td>\n      <td>24.298981</td>\n      <td>351.914129</td>\n      <td>0.014064</td>\n      <td>0.052813</td>\n      <td>0.079720</td>\n      <td>0.038803</td>\n      <td>0.027414</td>\n      <td>0.007060</td>\n      <td>...</td>\n      <td>6.146258</td>\n      <td>33.602542</td>\n      <td>569.356993</td>\n      <td>0.022832</td>\n      <td>0.157336</td>\n      <td>0.208624</td>\n      <td>0.065732</td>\n      <td>0.061867</td>\n      <td>0.018061</td>\n      <td>0.483918</td>\n    </tr>\n    <tr>\n      <th>min</th>\n      <td>6.981000</td>\n      <td>9.710000</td>\n      <td>43.790000</td>\n      <td>143.500000</td>\n      <td>0.052630</td>\n      <td>0.019380</td>\n      <td>0.000000</td>\n      <td>0.000000</td>\n      <td>0.106000</td>\n      <td>0.049960</td>\n      <td>...</td>\n      <td>12.020000</td>\n      <td>50.410000</td>\n      <td>185.200000</td>\n      <td>0.071170</td>\n      <td>0.027290</td>\n      <td>0.000000</td>\n      <td>0.000000</td>\n      <td>0.156500</td>\n      <td>0.055040</td>\n      <td>0.000000</td>\n    </tr>\n    <tr>\n      <th>25%</th>\n      <td>11.700000</td>\n      <td>16.170000</td>\n      <td>75.170000</td>\n      <td>420.300000</td>\n      <td>0.086370</td>\n      <td>0.064920</td>\n      <td>0.029560</td>\n      <td>0.020310</td>\n      <td>0.161900</td>\n      <td>0.057700</td>\n      <td>...</td>\n      <td>21.080000</td>\n      <td>84.110000</td>\n      <td>515.300000</td>\n      <td>0.116600</td>\n      <td>0.147200</td>\n      <td>0.114500</td>\n      <td>0.064930</td>\n      <td>0.250400</td>\n      <td>0.071460</td>\n      <td>0.000000</td>\n    </tr>\n    <tr>\n      <th>50%</th>\n      <td>13.370000</td>\n      <td>18.840000</td>\n      <td>86.240000</td>\n      <td>551.100000</td>\n      <td>0.095870</td>\n      <td>0.092630</td>\n      <td>0.061540</td>\n      <td>0.033500</td>\n      <td>0.179200</td>\n      <td>0.061540</td>\n      <td>...</td>\n      <td>25.410000</td>\n      <td>97.660000</td>\n      <td>686.500000</td>\n      <td>0.131300</td>\n      <td>0.211900</td>\n      <td>0.226700</td>\n      <td>0.099930</td>\n      <td>0.282200</td>\n      <td>0.080040</td>\n      <td>1.000000</td>\n    </tr>\n    <tr>\n      <th>75%</th>\n      <td>15.780000</td>\n      <td>21.800000</td>\n      <td>104.100000</td>\n      <td>782.700000</td>\n      <td>0.105300</td>\n      <td>0.130400</td>\n      <td>0.130700</td>\n      <td>0.074000</td>\n      <td>0.195700</td>\n      <td>0.066120</td>\n      <td>...</td>\n      <td>29.720000</td>\n      <td>125.400000</td>\n      <td>1084.000000</td>\n      <td>0.146000</td>\n      <td>0.339100</td>\n      <td>0.382900</td>\n      <td>0.161400</td>\n      <td>0.317900</td>\n      <td>0.092080</td>\n      <td>1.000000</td>\n    </tr>\n    <tr>\n      <th>max</th>\n      <td>28.110000</td>\n      <td>39.280000</td>\n      <td>188.500000</td>\n      <td>2501.000000</td>\n      <td>0.163400</td>\n      <td>0.345400</td>\n      <td>0.426800</td>\n      <td>0.201200</td>\n      <td>0.304000</td>\n      <td>0.097440</td>\n      <td>...</td>\n      <td>49.540000</td>\n      <td>251.200000</td>\n      <td>4254.000000</td>\n      <td>0.222600</td>\n      <td>1.058000</td>\n      <td>1.252000</td>\n      <td>0.291000</td>\n      <td>0.663800</td>\n      <td>0.207500</td>\n      <td>1.000000</td>\n    </tr>\n  </tbody>\n</table>\n<p>8 rows \u00d7 31 columns</p>\n</div>",
                        "text/plain": "      mean radius mean texture mean perimeter    mean area mean smoothness  \\\ncount  569.000000   569.000000     569.000000   569.000000      569.000000   \nmean    14.127292    19.289649      91.969033   654.889104        0.096360   \nstd      3.524049     4.301036      24.298981   351.914129        0.014064   \nmin      6.981000     9.710000      43.790000   143.500000        0.052630   \n25%     11.700000    16.170000      75.170000   420.300000        0.086370   \n50%     13.370000    18.840000      86.240000   551.100000        0.095870   \n75%     15.780000    21.800000     104.100000   782.700000        0.105300   \nmax     28.110000    39.280000     188.500000  2501.000000        0.163400   \n\n      mean compactness mean concavity mean concave points mean symmetry  \\\ncount       569.000000     569.000000          569.000000    569.000000   \nmean          0.104341       0.088799            0.048919      0.181162   \nstd           0.052813       0.079720            0.038803      0.027414   \nmin           0.019380       0.000000            0.000000      0.106000   \n25%           0.064920       0.029560            0.020310      0.161900   \n50%           0.092630       0.061540            0.033500      0.179200   \n75%           0.130400       0.130700            0.074000      0.195700   \nmax           0.345400       0.426800            0.201200      0.304000   \n\n      mean fractal dimension  ... worst texture worst perimeter   worst area  \\\ncount             569.000000  ...    569.000000      569.000000   569.000000   \nmean                0.062798  ...     25.677223      107.261213   880.583128   \nstd                 0.007060  ...      6.146258       33.602542   569.356993   \nmin                 0.049960  ...     12.020000       50.410000   185.200000   \n25%                 0.057700  ...     21.080000       84.110000   515.300000   \n50%                 0.061540  ...     25.410000       97.660000   686.500000   \n75%                 0.066120  ...     29.720000      125.400000  1084.000000   \nmax                 0.097440  ...     49.540000      251.200000  4254.000000   \n\n      worst smoothness worst compactness worst concavity worst concave points  \\\ncount       569.000000        569.000000      569.000000           569.000000   \nmean          0.132369          0.254265        0.272188             0.114606   \nstd           0.022832          0.157336        0.208624             0.065732   \nmin           0.071170          0.027290        0.000000             0.000000   \n25%           0.116600          0.147200        0.114500             0.064930   \n50%           0.131300          0.211900        0.226700             0.099930   \n75%           0.146000          0.339100        0.382900             0.161400   \nmax           0.222600          1.058000        1.252000             0.291000   \n\n      worst symmetry worst fractal dimension      target  \ncount     569.000000              569.000000  569.000000  \nmean        0.290076                0.083946    0.627417  \nstd         0.061867                0.018061    0.483918  \nmin         0.156500                0.055040    0.000000  \n25%         0.250400                0.071460    0.000000  \n50%         0.282200                0.080040    1.000000  \n75%         0.317900                0.092080    1.000000  \nmax         0.663800                0.207500    1.000000  \n\n[8 rows x 31 columns]"
                    },
                    "execution_count": 25,
                    "metadata": {},
                    "output_type": "execute_result"
                }
            ],
            "source": "df.describe()"
        },
        {
            "cell_type": "code",
            "execution_count": 51,
            "metadata": {},
            "outputs": [],
            "source": "X = df.drop('target',axis=1)\ny = df['target']"
        },
        {
            "cell_type": "code",
            "execution_count": 32,
            "metadata": {},
            "outputs": [],
            "source": "from sklearn.model_selection import train_test_split\nX_train,X_test,y_train,y_test = train_test_split(X,y,test_size=0.2,random_state=0)"
        },
        {
            "cell_type": "code",
            "execution_count": 33,
            "metadata": {},
            "outputs": [
                {
                    "data": {
                        "text/plain": "(455, 30)"
                    },
                    "execution_count": 33,
                    "metadata": {},
                    "output_type": "execute_result"
                }
            ],
            "source": "X_train.shape"
        },
        {
            "cell_type": "code",
            "execution_count": 34,
            "metadata": {},
            "outputs": [
                {
                    "data": {
                        "text/plain": "(114, 30)"
                    },
                    "execution_count": 34,
                    "metadata": {},
                    "output_type": "execute_result"
                }
            ],
            "source": "X_test.shape"
        },
        {
            "cell_type": "code",
            "execution_count": 44,
            "metadata": {},
            "outputs": [
                {
                    "data": {
                        "text/plain": "0.9298245614035088"
                    },
                    "execution_count": 44,
                    "metadata": {},
                    "output_type": "execute_result"
                }
            ],
            "source": "from sklearn.naive_bayes import GaussianNB\nclassifier = GaussianNB()\nclassifier.fit(X_train,y_train.values.ravel())\nclassifier.score(X_test,y_test)"
        },
        {
            "cell_type": "code",
            "execution_count": 45,
            "metadata": {},
            "outputs": [
                {
                    "data": {
                        "text/plain": "0.8947368421052632"
                    },
                    "execution_count": 45,
                    "metadata": {},
                    "output_type": "execute_result"
                }
            ],
            "source": "from sklearn.naive_bayes import MultinomialNB\nclassifier_m = MultinomialNB()\nclassifier_m.fit(X_train,y_train.values.ravel())\nclassifier_m.score(X_test,y_test)"
        },
        {
            "cell_type": "code",
            "execution_count": 46,
            "metadata": {},
            "outputs": [
                {
                    "data": {
                        "text/plain": "0.5877192982456141"
                    },
                    "execution_count": 46,
                    "metadata": {},
                    "output_type": "execute_result"
                }
            ],
            "source": "from sklearn.naive_bayes import BernoulliNB\nclassifier_b = BernoulliNB()\nclassifier_b.fit(X_train,y_train.values.ravel())\nclassifier_b.score(X_test,y_test)"
        },
        {
            "cell_type": "code",
            "execution_count": null,
            "metadata": {},
            "outputs": [],
            "source": ""
        },
        {
            "cell_type": "code",
            "execution_count": null,
            "metadata": {},
            "outputs": [],
            "source": ""
        }
    ],
    "metadata": {
        "kernelspec": {
            "display_name": "Python 3.6",
            "language": "python",
            "name": "python3"
        },
        "language_info": {
            "codemirror_mode": {
                "name": "ipython",
                "version": 3
            },
            "file_extension": ".py",
            "mimetype": "text/x-python",
            "name": "python",
            "nbconvert_exporter": "python",
            "pygments_lexer": "ipython3",
            "version": "3.6.9"
        }
    },
    "nbformat": 4,
    "nbformat_minor": 1
}